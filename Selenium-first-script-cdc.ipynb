{
 "cells": [
  {
   "cell_type": "code",
   "execution_count": 2,
   "id": "3d5a0770-1980-463e-ae6f-d61507cc4f5c",
   "metadata": {
    "tags": []
   },
   "outputs": [],
   "source": [
    "from selenium import webdriver\n",
    "from selenium.webdriver.common.by import By\n",
    "import time"
   ]
  },
  {
   "cell_type": "code",
   "execution_count": 3,
   "id": "f860445e-8255-4b94-a838-0cadcde95cf6",
   "metadata": {
    "tags": []
   },
   "outputs": [],
   "source": [
    "driver = webdriver.Chrome()\n",
    "driver.get('https://stacks.cdc.gov/view/cdc/124397')\n",
    "#Waiting for the page to load:\n",
    "time.sleep(1)\n",
    "\n",
    "#Locate the download button by its ID:\n",
    "download_button = driver.find_element(By.ID, 'download-document-submit')\n",
    "\n",
    "#Click the button to initiate the download:\n",
    "download_button.click()\n",
    "\n",
    "#Wait for 2 seconds to allow the download:\n",
    "time.sleep(2)\n",
    "\n",
    "\n",
    "driver.quit()\n"
   ]
  },
  {
   "cell_type": "code",
   "execution_count": null,
   "id": "16860c90-9495-4a0f-89ce-336cb568a0b8",
   "metadata": {},
   "outputs": [],
   "source": []
  }
 ],
 "metadata": {
  "kernelspec": {
   "display_name": "Python 3 (ipykernel)",
   "language": "python",
   "name": "python3"
  },
  "language_info": {
   "codemirror_mode": {
    "name": "ipython",
    "version": 3
   },
   "file_extension": ".py",
   "mimetype": "text/x-python",
   "name": "python",
   "nbconvert_exporter": "python",
   "pygments_lexer": "ipython3",
   "version": "3.11.5"
  }
 },
 "nbformat": 4,
 "nbformat_minor": 5
}
